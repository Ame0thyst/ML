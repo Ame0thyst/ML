{
  "cells": [
    {
      "cell_type": "markdown",
      "metadata": {
        "id": "VoMqKuBsUd1p"
      },
      "source": [
        "Install Firecrawl's python package to be able to use it."
      ]
    },
    {
      "cell_type": "code",
      "execution_count": null,
      "metadata": {
        "id": "LM25nYrLUkuW"
      },
      "outputs": [],
      "source": [
        "pip install firecrawl-py -q"
      ]
    },
    {
      "cell_type": "markdown",
      "metadata": {
        "id": "0WhW8WTYU1H-"
      },
      "source": [
        "Install gradio for the UI"
      ]
    },
    {
      "cell_type": "code",
      "execution_count": null,
      "metadata": {
        "colab": {
          "base_uri": "https://localhost:8080/"
        },
        "collapsed": true,
        "id": "KOlAy1nY9Lms",
        "outputId": "5a56763b-979f-43a7-b789-7b5a075b09a9"
      },
      "outputs": [
        {
          "name": "stdout",
          "output_type": "stream",
          "text": [
            "Collecting gradio\n",
            "  Downloading gradio-5.13.1-py3-none-any.whl.metadata (16 kB)\n",
            "Collecting openai\n",
            "  Downloading openai-1.60.1-py3-none-any.whl.metadata (27 kB)\n",
            "Collecting aiofiles<24.0,>=22.0 (from gradio)\n",
            "  Downloading aiofiles-23.2.1-py3-none-any.whl.metadata (9.7 kB)\n",
            "Requirement already satisfied: anyio<5.0,>=3.0 in /usr/local/lib/python3.11/dist-packages (from gradio) (3.7.1)\n",
            "Collecting fastapi<1.0,>=0.115.2 (from gradio)\n",
            "  Downloading fastapi-0.115.7-py3-none-any.whl.metadata (27 kB)\n",
            "Collecting ffmpy (from gradio)\n",
            "  Downloading ffmpy-0.5.0-py3-none-any.whl.metadata (3.0 kB)\n",
            "Collecting gradio-client==1.6.0 (from gradio)\n",
            "  Downloading gradio_client-1.6.0-py3-none-any.whl.metadata (7.1 kB)\n",
            "Collecting httpx>=0.24.1 (from gradio)\n",
            "  Downloading httpx-0.28.1-py3-none-any.whl.metadata (7.1 kB)\n",
            "Requirement already satisfied: huggingface-hub>=0.25.1 in /usr/local/lib/python3.11/dist-packages (from gradio) (0.27.1)\n",
            "Requirement already satisfied: jinja2<4.0 in /usr/local/lib/python3.11/dist-packages (from gradio) (3.1.5)\n",
            "Collecting markupsafe~=2.0 (from gradio)\n",
            "  Downloading MarkupSafe-2.1.5-cp311-cp311-manylinux_2_17_x86_64.manylinux2014_x86_64.whl.metadata (3.0 kB)\n",
            "Requirement already satisfied: numpy<3.0,>=1.0 in /usr/local/lib/python3.11/dist-packages (from gradio) (1.26.4)\n",
            "Collecting orjson~=3.0 (from gradio)\n",
            "  Downloading orjson-3.10.15-cp311-cp311-manylinux_2_17_x86_64.manylinux2014_x86_64.whl.metadata (41 kB)\n",
            "\u001b[2K     \u001b[90m━━━━━━━━━━━━━━━━━━━━━━━━━━━━━━━━━━━━━━━━\u001b[0m \u001b[32m41.8/41.8 kB\u001b[0m \u001b[31m2.4 MB/s\u001b[0m eta \u001b[36m0:00:00\u001b[0m\n",
            "\u001b[?25hRequirement already satisfied: packaging in /usr/local/lib/python3.11/dist-packages (from gradio) (24.2)\n",
            "Requirement already satisfied: pandas<3.0,>=1.0 in /usr/local/lib/python3.11/dist-packages (from gradio) (2.2.2)\n",
            "Requirement already satisfied: pillow<12.0,>=8.0 in /usr/local/lib/python3.11/dist-packages (from gradio) (11.1.0)\n",
            "Requirement already satisfied: pydantic>=2.0 in /usr/local/lib/python3.11/dist-packages (from gradio) (2.10.5)\n",
            "Collecting pydub (from gradio)\n",
            "  Downloading pydub-0.25.1-py2.py3-none-any.whl.metadata (1.4 kB)\n",
            "Collecting python-multipart>=0.0.18 (from gradio)\n",
            "  Downloading python_multipart-0.0.20-py3-none-any.whl.metadata (1.8 kB)\n",
            "Requirement already satisfied: pyyaml<7.0,>=5.0 in /usr/local/lib/python3.11/dist-packages (from gradio) (6.0.2)\n",
            "Collecting ruff>=0.2.2 (from gradio)\n",
            "  Downloading ruff-0.9.3-py3-none-manylinux_2_17_x86_64.manylinux2014_x86_64.whl.metadata (25 kB)\n",
            "Collecting safehttpx<0.2.0,>=0.1.6 (from gradio)\n",
            "  Downloading safehttpx-0.1.6-py3-none-any.whl.metadata (4.2 kB)\n",
            "Collecting semantic-version~=2.0 (from gradio)\n",
            "  Downloading semantic_version-2.10.0-py2.py3-none-any.whl.metadata (9.7 kB)\n",
            "Collecting starlette<1.0,>=0.40.0 (from gradio)\n",
            "  Downloading starlette-0.45.3-py3-none-any.whl.metadata (6.3 kB)\n",
            "Collecting tomlkit<0.14.0,>=0.12.0 (from gradio)\n",
            "  Downloading tomlkit-0.13.2-py3-none-any.whl.metadata (2.7 kB)\n",
            "Requirement already satisfied: typer<1.0,>=0.12 in /usr/local/lib/python3.11/dist-packages (from gradio) (0.15.1)\n",
            "Requirement already satisfied: typing-extensions~=4.0 in /usr/local/lib/python3.11/dist-packages (from gradio) (4.12.2)\n",
            "Collecting uvicorn>=0.14.0 (from gradio)\n",
            "  Downloading uvicorn-0.34.0-py3-none-any.whl.metadata (6.5 kB)\n",
            "Requirement already satisfied: fsspec in /usr/local/lib/python3.11/dist-packages (from gradio-client==1.6.0->gradio) (2024.12.0)\n",
            "Requirement already satisfied: websockets<15.0,>=10.0 in /usr/local/lib/python3.11/dist-packages (from gradio-client==1.6.0->gradio) (14.2)\n",
            "Requirement already satisfied: distro<2,>=1.7.0 in /usr/lib/python3/dist-packages (from openai) (1.7.0)\n",
            "Collecting jiter<1,>=0.4.0 (from openai)\n",
            "  Downloading jiter-0.8.2-cp311-cp311-manylinux_2_17_x86_64.manylinux2014_x86_64.whl.metadata (5.2 kB)\n",
            "Requirement already satisfied: sniffio in /usr/local/lib/python3.11/dist-packages (from openai) (1.3.1)\n",
            "Requirement already satisfied: tqdm>4 in /usr/local/lib/python3.11/dist-packages (from openai) (4.67.1)\n",
            "Requirement already satisfied: idna>=2.8 in /usr/local/lib/python3.11/dist-packages (from anyio<5.0,>=3.0->gradio) (3.10)\n",
            "Requirement already satisfied: certifi in /usr/local/lib/python3.11/dist-packages (from httpx>=0.24.1->gradio) (2024.12.14)\n",
            "Collecting httpcore==1.* (from httpx>=0.24.1->gradio)\n",
            "  Downloading httpcore-1.0.7-py3-none-any.whl.metadata (21 kB)\n",
            "Collecting h11<0.15,>=0.13 (from httpcore==1.*->httpx>=0.24.1->gradio)\n",
            "  Downloading h11-0.14.0-py3-none-any.whl.metadata (8.2 kB)\n",
            "Requirement already satisfied: filelock in /usr/local/lib/python3.11/dist-packages (from huggingface-hub>=0.25.1->gradio) (3.17.0)\n",
            "Requirement already satisfied: requests in /usr/local/lib/python3.11/dist-packages (from huggingface-hub>=0.25.1->gradio) (2.32.3)\n",
            "Requirement already satisfied: python-dateutil>=2.8.2 in /usr/local/lib/python3.11/dist-packages (from pandas<3.0,>=1.0->gradio) (2.9.0.post0)\n",
            "Requirement already satisfied: pytz>=2020.1 in /usr/local/lib/python3.11/dist-packages (from pandas<3.0,>=1.0->gradio) (2024.2)\n",
            "Requirement already satisfied: tzdata>=2022.7 in /usr/local/lib/python3.11/dist-packages (from pandas<3.0,>=1.0->gradio) (2025.1)\n",
            "Requirement already satisfied: annotated-types>=0.6.0 in /usr/local/lib/python3.11/dist-packages (from pydantic>=2.0->gradio) (0.7.0)\n",
            "Requirement already satisfied: pydantic-core==2.27.2 in /usr/local/lib/python3.11/dist-packages (from pydantic>=2.0->gradio) (2.27.2)\n",
            "Requirement already satisfied: click>=8.0.0 in /usr/local/lib/python3.11/dist-packages (from typer<1.0,>=0.12->gradio) (8.1.8)\n",
            "Requirement already satisfied: shellingham>=1.3.0 in /usr/local/lib/python3.11/dist-packages (from typer<1.0,>=0.12->gradio) (1.5.4)\n",
            "Requirement already satisfied: rich>=10.11.0 in /usr/local/lib/python3.11/dist-packages (from typer<1.0,>=0.12->gradio) (13.9.4)\n",
            "Requirement already satisfied: six>=1.5 in /usr/local/lib/python3.11/dist-packages (from python-dateutil>=2.8.2->pandas<3.0,>=1.0->gradio) (1.17.0)\n",
            "Requirement already satisfied: markdown-it-py>=2.2.0 in /usr/local/lib/python3.11/dist-packages (from rich>=10.11.0->typer<1.0,>=0.12->gradio) (3.0.0)\n",
            "Requirement already satisfied: pygments<3.0.0,>=2.13.0 in /usr/local/lib/python3.11/dist-packages (from rich>=10.11.0->typer<1.0,>=0.12->gradio) (2.19.1)\n",
            "Requirement already satisfied: charset-normalizer<4,>=2 in /usr/local/lib/python3.11/dist-packages (from requests->huggingface-hub>=0.25.1->gradio) (3.4.1)\n",
            "Requirement already satisfied: urllib3<3,>=1.21.1 in /usr/local/lib/python3.11/dist-packages (from requests->huggingface-hub>=0.25.1->gradio) (2.3.0)\n",
            "Requirement already satisfied: mdurl~=0.1 in /usr/local/lib/python3.11/dist-packages (from markdown-it-py>=2.2.0->rich>=10.11.0->typer<1.0,>=0.12->gradio) (0.1.2)\n",
            "Downloading gradio-5.13.1-py3-none-any.whl (57.6 MB)\n",
            "\u001b[2K   \u001b[90m━━━━━━━━━━━━━━━━━━━━━━━━━━━━━━━━━━━━━━━━\u001b[0m \u001b[32m57.6/57.6 MB\u001b[0m \u001b[31m21.4 MB/s\u001b[0m eta \u001b[36m0:00:00\u001b[0m\n",
            "\u001b[?25hDownloading gradio_client-1.6.0-py3-none-any.whl (321 kB)\n",
            "\u001b[2K   \u001b[90m━━━━━━━━━━━━━━━━━━━━━━━━━━━━━━━━━━━━━━━━\u001b[0m \u001b[32m321.8/321.8 kB\u001b[0m \u001b[31m18.8 MB/s\u001b[0m eta \u001b[36m0:00:00\u001b[0m\n",
            "\u001b[?25hDownloading openai-1.60.1-py3-none-any.whl (456 kB)\n",
            "\u001b[2K   \u001b[90m━━━━━━━━━━━━━━━━━━━━━━━━━━━━━━━━━━━━━━━━\u001b[0m \u001b[32m456.1/456.1 kB\u001b[0m \u001b[31m28.9 MB/s\u001b[0m eta \u001b[36m0:00:00\u001b[0m\n",
            "\u001b[?25hDownloading aiofiles-23.2.1-py3-none-any.whl (15 kB)\n",
            "Downloading fastapi-0.115.7-py3-none-any.whl (94 kB)\n",
            "\u001b[2K   \u001b[90m━━━━━━━━━━━━━━━━━━━━━━━━━━━━━━━━━━━━━━━━\u001b[0m \u001b[32m94.8/94.8 kB\u001b[0m \u001b[31m7.1 MB/s\u001b[0m eta \u001b[36m0:00:00\u001b[0m\n",
            "\u001b[?25hDownloading httpx-0.28.1-py3-none-any.whl (73 kB)\n",
            "\u001b[2K   \u001b[90m━━━━━━━━━━━━━━━━━━━━━━━━━━━━━━━━━━━━━━━━\u001b[0m \u001b[32m73.5/73.5 kB\u001b[0m \u001b[31m5.1 MB/s\u001b[0m eta \u001b[36m0:00:00\u001b[0m\n",
            "\u001b[?25hDownloading httpcore-1.0.7-py3-none-any.whl (78 kB)\n",
            "\u001b[2K   \u001b[90m━━━━━━━━━━━━━━━━━━━━━━━━━━━━━━━━━━━━━━━━\u001b[0m \u001b[32m78.6/78.6 kB\u001b[0m \u001b[31m5.1 MB/s\u001b[0m eta \u001b[36m0:00:00\u001b[0m\n",
            "\u001b[?25hDownloading jiter-0.8.2-cp311-cp311-manylinux_2_17_x86_64.manylinux2014_x86_64.whl (345 kB)\n",
            "\u001b[2K   \u001b[90m━━━━━━━━━━━━━━━━━━━━━━━━━━━━━━━━━━━━━━━━\u001b[0m \u001b[32m345.6/345.6 kB\u001b[0m \u001b[31m22.4 MB/s\u001b[0m eta \u001b[36m0:00:00\u001b[0m\n",
            "\u001b[?25hDownloading MarkupSafe-2.1.5-cp311-cp311-manylinux_2_17_x86_64.manylinux2014_x86_64.whl (28 kB)\n",
            "Downloading orjson-3.10.15-cp311-cp311-manylinux_2_17_x86_64.manylinux2014_x86_64.whl (130 kB)\n",
            "\u001b[2K   \u001b[90m━━━━━━━━━━━━━━━━━━━━━━━━━━━━━━━━━━━━━━━━\u001b[0m \u001b[32m130.3/130.3 kB\u001b[0m \u001b[31m8.3 MB/s\u001b[0m eta \u001b[36m0:00:00\u001b[0m\n",
            "\u001b[?25hDownloading python_multipart-0.0.20-py3-none-any.whl (24 kB)\n",
            "Downloading ruff-0.9.3-py3-none-manylinux_2_17_x86_64.manylinux2014_x86_64.whl (12.4 MB)\n",
            "\u001b[2K   \u001b[90m━━━━━━━━━━━━━━━━━━━━━━━━━━━━━━━━━━━━━━━━\u001b[0m \u001b[32m12.4/12.4 MB\u001b[0m \u001b[31m110.3 MB/s\u001b[0m eta \u001b[36m0:00:00\u001b[0m\n",
            "\u001b[?25hDownloading safehttpx-0.1.6-py3-none-any.whl (8.7 kB)\n",
            "Downloading semantic_version-2.10.0-py2.py3-none-any.whl (15 kB)\n",
            "Downloading starlette-0.45.3-py3-none-any.whl (71 kB)\n",
            "\u001b[2K   \u001b[90m━━━━━━━━━━━━━━━━━━━━━━━━━━━━━━━━━━━━━━━━\u001b[0m \u001b[32m71.5/71.5 kB\u001b[0m \u001b[31m4.7 MB/s\u001b[0m eta \u001b[36m0:00:00\u001b[0m\n",
            "\u001b[?25hDownloading tomlkit-0.13.2-py3-none-any.whl (37 kB)\n",
            "Downloading uvicorn-0.34.0-py3-none-any.whl (62 kB)\n",
            "\u001b[2K   \u001b[90m━━━━━━━━━━━━━━━━━━━━━━━━━━━━━━━━━━━━━━━━\u001b[0m \u001b[32m62.3/62.3 kB\u001b[0m \u001b[31m3.7 MB/s\u001b[0m eta \u001b[36m0:00:00\u001b[0m\n",
            "\u001b[?25hDownloading ffmpy-0.5.0-py3-none-any.whl (6.0 kB)\n",
            "Downloading pydub-0.25.1-py2.py3-none-any.whl (32 kB)\n",
            "Downloading h11-0.14.0-py3-none-any.whl (58 kB)\n",
            "\u001b[2K   \u001b[90m━━━━━━━━━━━━━━━━━━━━━━━━━━━━━━━━━━━━━━━━\u001b[0m \u001b[32m58.3/58.3 kB\u001b[0m \u001b[31m4.0 MB/s\u001b[0m eta \u001b[36m0:00:00\u001b[0m\n",
            "\u001b[?25hInstalling collected packages: pydub, tomlkit, semantic-version, ruff, python-multipart, orjson, markupsafe, jiter, h11, ffmpy, aiofiles, uvicorn, starlette, httpcore, httpx, fastapi, safehttpx, openai, gradio-client, gradio\n",
            "  Attempting uninstall: markupsafe\n",
            "    Found existing installation: MarkupSafe 3.0.2\n",
            "    Uninstalling MarkupSafe-3.0.2:\n",
            "      Successfully uninstalled MarkupSafe-3.0.2\n",
            "Successfully installed aiofiles-23.2.1 fastapi-0.115.7 ffmpy-0.5.0 gradio-5.13.1 gradio-client-1.6.0 h11-0.14.0 httpcore-1.0.7 httpx-0.28.1 jiter-0.8.2 markupsafe-2.1.5 openai-1.60.1 orjson-3.10.15 pydub-0.25.1 python-multipart-0.0.20 ruff-0.9.3 safehttpx-0.1.6 semantic-version-2.10.0 starlette-0.45.3 tomlkit-0.13.2 uvicorn-0.34.0\n"
          ]
        }
      ],
      "source": [
        "!pip install gradio openai"
      ]
    },
    {
      "cell_type": "markdown",
      "metadata": {
        "id": "BFaGef1o-r4X"
      },
      "source": [
        "https://www.firecrawl.dev/app"
      ]
    },
    {
      "cell_type": "code",
      "execution_count": null,
      "metadata": {
        "colab": {
          "base_uri": "https://localhost:8080/"
        },
        "id": "6xG5rfuZVcsx",
        "outputId": "e15ca2d8-0bb3-4560-86ea-bdeb55e0d6aa"
      },
      "outputs": [
        {
          "name": "stdout",
          "output_type": "stream",
          "text": [
            "Firecrawl API Key: ··········\n"
          ]
        }
      ],
      "source": [
        "import getpass\n",
        "\n",
        "FIRECRAWL_API_KEY = getpass.getpass(\"Firecrawl API Key: \")"
      ]
    },
    {
      "cell_type": "code",
      "execution_count": null,
      "metadata": {
        "id": "udAMPSd7hAz_"
      },
      "outputs": [],
      "source": [
        "from firecrawl import FirecrawlApp\n",
        "\n",
        "app = FirecrawlApp(api_key=FIRECRAWL_API_KEY)"
      ]
    },
    {
      "cell_type": "code",
      "execution_count": null,
      "metadata": {
        "id": "8yyP9TpVgI3j"
      },
      "outputs": [],
      "source": [
        "s_muhammadiyah = app.scrape_url(\n",
        "    'https://muhammadiyah.or.id/sejarah-muhammadiyah/',\n",
        "    params={'formats': ['markdown', 'html']})"
      ]
    },
    {
      "cell_type": "code",
      "execution_count": null,
      "metadata": {
        "colab": {
          "base_uri": "https://localhost:8080/"
        },
        "id": "O82jSZPeirnb",
        "outputId": "fbdcf925-bbdc-4e81-aab0-89d3fa3cbc75"
      },
      "outputs": [
        {
          "name": "stdout",
          "output_type": "stream",
          "text": [
            "Senin, 27 Januari 2025\n",
            "\n",
            "[Find us on Facebook](https://www.facebook.com/PersyarikatanMuhammadiyah)[Find us on Twitter](https://twitter.com/muhammadiyah)[Find us on Instagram](https://instagram.com/lensamu)[Find us on Youtube](https://www.youtube.com/user/mchannel1912)[Find us on TikTok](https://www.tiktok.com/@lensamu)\n",
            "\n",
            "- [AR![](https://muhammadiyah.or.id/wp-content/uploads/2024/06/Arabic-Flag-1.svg)](https://ar.muhammadiyah.or.id/)\n",
            "- [EN![](https://muhammadiyah.or.id/wp-content/uploads/2024/06/Eng-Flag-1.svg)](https://en.muhammadiyah.or.id/)\n",
            "- [IN![](https://muhammadiyah.or.id/wp-content/uploads/2024/06/Indo-Flag-1.svg)](https://muhammadiyah.or.id/)\n",
            "\n",
            "[![Muhammadiyah](https://muhammadiyah.or.id/wp-content/uploads/2024/02/logomuhammadiyahorid-e1711889651708.png)](https://muhammadiyah.or.id/)\n",
            "\n",
            "- [KABAR](https://muhammadiyah.or.id/kabar-persyarikatan/)\n",
            "- [OPINI](https://muhammadiyah.or.id/kategori/opini/)\n",
            "- [HUKUM ISLAM](https://muhammadiyah.or.id/kategori/hukum-islam/)\n",
            "- [KHUTBAH](https://muhammadiyah.or.id/kategori/khutbah/)\n",
            "- [MEDIA](https://muhammadiyah.or.id/sejarah-muhammadiyah/#)\n",
            "- [SEJARAH](https://muhammadiyah.or.id/sejarah-muhammadiyah/)\n",
            "- [TOKOH](https://muhammadiyah.or.id/kategori/tokoh/)\n",
            "- [ARSIP](https://muhammadiyah.or.id/download-arsip/)\n",
            "\n",
            "[Search Button](https://muhammadiyah.or.id/sejarah-muhammadiyah/#)\n",
            "\n",
            "No Result\n",
            "\n",
            "View All Result\n",
            "\n",
            "- [Login](https://muhammadiyah.or.id/sejarah-muhammadiyah/#jeg_loginform)\n",
            "\n",
            "[![Muhammadiyah](https://muhammadiyah.or.id/wp-content/uploads/2024/02/logomuhammadiyahorid-1-e1707738991754.png)](https://muhammadiyah.or.id/)\n",
            "\n",
            "- [KABAR](https://muhammadiyah.or.id/kabar-persyarikatan/)\n",
            "- [OPINI](https://muhammadiyah.or.id/kategori/opini/)\n",
            "- [HUKUM ISLAM](https://muhammadiyah.or.id/kategori/hukum-islam/)\n",
            "- [KHUTBAH](https://muhammadiyah.or.id/kategori/khutbah/)\n",
            "- [MEDIA](https://muhammadiyah.or.id/sejarah-muhammadiyah/#)\n",
            "- [SEJARAH](https://muhammadiyah.or.id/sejarah-muhammadiyah/)\n",
            "- [TOKOH](https://muhammadiyah.or.id/kategori/tokoh/)\n",
            "- [ARSIP](https://muhammadiyah.or.id/download-arsip/)\n",
            "\n",
            "[Search Button](https://muhammadiyah.or.id/sejarah-muhammadiyah/#)\n",
            "\n",
            "No Result\n",
            "\n",
            "View All Result\n",
            "\n",
            "- [Login](https://muhammadiyah.or.id/sejarah-muhammadiyah/#jeg_loginform)\n",
            "\n",
            "[Show Menu](https://muhammadiyah.or.id/sejarah-muhammadiyah/#)\n",
            "\n",
            "[![Muhammadiyah](https://muhammadiyah.or.id/wp-content/uploads/2024/02/logomuhammadiyahorid-1-e1707738991754.png)](https://muhammadiyah.or.id/)\n",
            "\n",
            "[Search Button](https://muhammadiyah.or.id/sejarah-muhammadiyah/#)\n",
            "\n",
            "No Result\n",
            "\n",
            "View All Result\n",
            "\n",
            "- [KABAR](https://muhammadiyah.or.id/kabar-persyarikatan/)\n",
            "- [OPINI](https://muhammadiyah.or.id/kategori/opini/)\n",
            "- [HUKUM ISLAM](https://muhammadiyah.or.id/kategori/hukum-islam/)\n",
            "- [KHUTBAH](https://muhammadiyah.or.id/kategori/khutbah/)\n",
            "- [MEDIA](https://muhammadiyah.or.id/sejarah-muhammadiyah/#)\n",
            "- [SEJARAH](https://muhammadiyah.or.id/sejarah-muhammadiyah/)\n",
            "- [TOKOH](https://muhammadiyah.or.id/kategori/tokoh/)\n",
            "- [ARSIP](https://muhammadiyah.or.id/download-arsip/)\n",
            "\n",
            "## Sejarah Muhammadiyah\n",
            "\n",
            "## Perjuangan Ulama Besar  K.H Ahmad Dahlan  Mendirikan Muhammadiyah\n",
            "\n",
            "![](https://muhammadiyah.or.id/wp-content/uploads/2024/06/KH-Ahmad-Dahlan-1.webp)\n",
            "\n",
            "### **Prolog**\n",
            "\n",
            "Muhammadiyah merupakan gerakan Islam modernis terbesar dan tertua di Indonesia yang masih eksis hingga hari ini. Muhammadiyah telah mendirikan 30 cabang istimewa di luar negeri dan melebarkan kiprah kemanusiaan ke berbagai negara dalam rangka menciptakan perdamaian global dan keadilan sosial. Anggota Muhammadiyah diprediksi berkisar antara 30 hingga 40 juta orang yang berasal dari berbagai latar belakang profesi, etnis, sosial, dan budaya.\n",
            "\n",
            "Selama satu abad, Muhammadiyah dikenal luas sebagai organisasi sosial-keagamaan yang sukses bergerak di ranah pendidikan, kesehatan, filantropi, dan pemberdayaan sosial secara independen serta terpercaya. Muhammadiyah mendirikan lembaga pendidikan dari jenjang dasar, menengah, dan tinggi; mendirikan rumah sakit, klinik, dan layanan kesehatan; dan melakukan pemberdayaan sosial-ekonomi yang tersebar di seluruh Indonesia untuk komunitas masyarakat urban, pedesaan, pedalaman, terpencil, kawasan kepulauan, masyarakat adat, serta di area rawan bencana.\n",
            "\n",
            "Muhammadiyah adalah organisasi Islam pribumi pertama yang mereformasi dan memperkenalkan sistem pendidikan Islam modern, tata kelola dan manajemen urusan keagamaan yang berlandaskan pada prinsip akuntabilitas dan berorientasi pada dampak, serta mempelopori gerakan emansipasi perempuan muslim.\n",
            "\n",
            "Tujuan berdirinya Muhammadiyah adalah mewujudkan masyarakat Islam yang sebenar-benarnya. Namun, dampak kebermanfaatan Muhammadiyah juga menjangkau berbagai individu, kelompok, dan masyarakat dari berbagai latar belakang agama, suku, dan komunitas yang beragam, sejalan dengan misi _rahmatan lil ‘alamin_ yang berlandas pada Islam moderat.\n",
            "\n",
            "Paham dan ideologi keagamaan yang dipegang oleh Muhammadiyah adalah dakwah, tajdid, dan Islam Berkemajuan yang berpandangan _wasathiyah_. Dakwah adalah untuk mensyiarkan wajah Islam yang menebar manfaat dan berkeunggulan, tajdid sebagai watak adaptif pemikiran keislaman yang senantiasa selaras dengan perkembangan ilmu pengetahuan dan teknologi, dan Islam berkemajuan merupakan karakter wawasan serta praktik beragama ala Muhammadiyah.\n",
            "\n",
            "**Sejarah Berdiri Muhammadiyah**\n",
            "\n",
            "Muhammadiyah berdiri pada 8 Dzulhijjah 1330 H atau bertepatan pada tanggal 18 November 1912 di Kauman, kota Yogyakarta. Pendirian Muhammadiyah diawali oleh keberadaan Sekolah Rakyat bernama Madrasah Ibtidaiyah Diniyah Islamiyah yang didirikan KH. Ahmad Dahlan pada awal tahun 1912. Madrasah ini mengadakan proses belajar-mengajar pertama kali di dengan memanfaatkan ruangan berupa kamar tamu di rumah KH. Ahmad Dahlan yang memiliki panjang 6 meter dan lebar 2.5 meter, berisi tiga meja dan tiga kursi panjang serta satu papan tulis. Pada saat itu ada sembilan santri yang menjadi murid di Madrasah Ibtidaiyah Diniyah Islamiyah.\n",
            "\n",
            "Madrasah Ibtidaiyah Diniyah Islamiyah didirikan oleh KH. Ahmad Dahlan tanpa bantuan dan sumbangan dana orang lain. KH. Ahmad Dahlan mengandalkan harta bendanya untuk mewujudkan lembaga pendidikan Islam modern yang dibayangkannya.\n",
            "\n",
            "Seiring waktu, kala berdiskusi dengan para santri dan muridnya dari _Kweek School_ Jetis, KH. Ahmad Dahlan mendapat dorongan tambahan agar membentuk organisasi yang diharapkan akan menjaga keberlanjutan Madrasah Ibtidaiyah Diniyah Islamiyah. Organisasi itu bernama Muhammadiyah, dengan harapan agar para anggotanya dapat meneladani Nabi Muhammad Saw.\n",
            "\n",
            "Meskipun gagasan dan usulan untuk mendirikan Muhammadiyah banyak didorong oleh beberapa orang santri dan muridnya, atas dasar aturan yang berlaku, hanya nama-nama yang telah cukup usia yang dapat dimasukkan sebagai pendiri. Dalam _Statuten_ atau Anggaran Dasar Muhammadiyah yang diajukan kepada Pemerintah Hindia-Belanda disebutkan bahwa tanggal berdiri organisasi ini adalah 18 November 1912.\n",
            "\n",
            "Setelah melewati proses pengajuan yang sulit dan memakan waktu lama, dengan terbitnya _Besluit_ pada 22 Agustus 1914 No.81, akhirnya Muhammadiyah sebagai Badan Hukum diakui oleh Pemerintah Hindia-Belanda.\n",
            "\n",
            "Pada masa awal pendirian, aturan yang ditetapkan oleh Pemerintah Hindia-Belanda membatasi ruang dan gerak Muhammadiyah. Namun, dalam Kongres Boedi Oetomo yang diselenggarakan di rumah KH. Ahmad Dahlan pada tahun 1917, pendiri Muhammadiyah ini menyatakan bahwa organisasi ini perlu berdiri tidak saja di Yogyakarta, tapi juga di seluruh Jawa, dan bahkan di Sumatera, Sulawesi, Kalimantan, dan di berbagai tempat di nusantara.\n",
            "\n",
            "Setelah mendapat persetujuan dari Pemerintah Hindia-Belanda, KH. Ahmad Dahlan menjadi leluasa dalam memperluas misi dakwahnya. KH. Ahmad Dahlan pergi berceramah di berbagai tempat dan mengajak kaum muslimin untuk mengamalkan Islam yang membebaskan umatnya dari kejumudan, kebodohan, dan berorientasi pada amal saleh.\n",
            "\n",
            "KH Ahmad Dahlan memimpin Muhammadiyah sejak tahun 1912 dan berakhir ketika wafat pada 1923. Dari awal hingga setengah abad berikutnya, kepemimpinan di Muhammadiyah dilanjutkan oleh Kyai Haji Ibrahim pada tahun 1923 hingga 1931. Kemudian Kyai Haji Hisyam pada 1931 hingga 1936, Kyai Haji Mas Mansyur pada 1936 hingga 1942, dan Ki Bagus Hadikusuma pada tahun 1942 hingga 1953.\n",
            "\n",
            "**Riwayat Pendiri Muhammadiyah**\n",
            "\n",
            "1. Ahmad Dahlan merupakan pendiri Muhammadiyah, seorang ulama yang lahir di kampung Kauman Yogyakarta pada bulan Agustus tahun 1869 dengan nama awal Muhammad Darwis. KH. Ahmad Dahlan adalah anak dari seorang ulama, imam dan khatib Masjid Besar kauman bernama Kyai Haji Abu Bakar. Nama Ibu dari KH. Ahmad Dahlan adalah Siti Aminah binti Haji Ibrahim, anak seorang ulama dan penghulu besar di Yogyakarta.\n",
            "\n",
            "Pada masa muda, KH. Ahmad Dahlan belajar dan berguru dari kedua kakak iparnya, ilmu Fiqh dari Kyai Haji Muhammad Saleh, dan ilmu Nahwu dari Haji Muhsin. KH. Ahmad Dahlan belajar ilmu Falaq dari Kyai Raden Haji Dahlan, putera Kyai Termas; ilmu Hadits dari Kyai Mahfudh dan Syaikh Khayyat; serta Ilmu Qiraah kepada Syaikh Amien dan Sayyid Bakri. Selain mendalami ilmu-ilmu agama, KH. Ahmad Dahlan juga mempelajari pengetahuan umum, misalnya ilmu bisa atau racun binatang dari dari Syaikh Hasan, bahasa Jawa dan Melayu dari R. Ng. Sosrosugondo (anggota Boedi Oetomo dan editor bahasa untuk _Statuten_ dalam bahasa Melayu dan Belanda), dan untuk pelajaran lainnya dari R. Wedana Dwijosewoyo, dan Syaikh Jamil Jambek.\n",
            "\n",
            "Pada tahun 1889, KH. Ahmad Dahlan menikah dengan Siti Walidah binti Kyai Penghulu Haji Fadhil yang mendampinginya hingga wafat. Siti Walidah kemudian turut serta mendirikan organisasi muslim perempuan modernis pertama di Indonesia, yakni ‘Aisyiyah pada 27 Rajab 1335 H atau bertepatan tanggal 19 Mei tahun 1917. Aisyiyah adalah wadah bagi perempuan muslim untuk mengembangkan kiprah dalam ranah pendidikan, kesehatan, dan pemberdayaan sebagaimana tujuan dan maksud Muhammadiyah.\n",
            "\n",
            "4. Ahmad Dahlan meninggalkan banyak jejak keteladanan bagi anggota Muhammadiyah. Pada suatu saat ketika sekolah Muhammadiyah kekurangan uang untuk membayar gaji para guru dan mencukupi kebutuhan operasional sekolah, KH. Ahmad Dahlan melelang barang-barang serta perkakas di rumahnya. Orang-orang yang tergugah dengan sikap berani dan ikhlas KH. Ahmad Dahlan kemudian membeli barang-barang tersebut dengan harga tinggi dan mengembalikannya. Uang yang terkumpul mencapai F 4.000, jumlah yang sangat besar dari target awal, dan sangat mencukupi kebutuhan untuk membayar gaji guru-guru dan perlengkapan sekolah.\n",
            "\n",
            "Tahun-tahun terakhir jelang wafat, KH. Ahmad Dahlan tidak pernah mengundurkan diri dari urusan berdakwah _amar ma’ruf nahi munkar_. KH. Ahmad Dahlan masih sempat mendirikan gerakan kepanduan bernama Hizbul Wathan pada 1918, membentuk Bagian Penolong Haji, kemudian berinisiatif mendirikan Mushola khusus untuk perempuan yang pertama di Hindia-Belanda, dan bahkan dalam keadaan sakit jelang rapat tahunan pada 1923 masih sempat mendirikan surau di Tretes Malang.\n",
            "\n",
            "**Teologi Al-Ma’un**\n",
            "\n",
            "Muhammadiyah meyakini bahwa doktrin-doktrin keagamaan yang ditransformasikan dengan tepat sesuai perkembangan zaman serta mengadaptasi tata kelola modern, dapat menjadi sumber penting dalam mewujudkan perubahan sosial yang memberi dampak struktural.\n",
            "\n",
            "Pada suatu waktu ketika KH. Ahmad Dahlan selesai mengajari para santrinya surat al-Ma’un. Para santri bertanya kepada KH. Ahmad Dahlan mengapa surat yang telah mampu dibaca dengan baik dan juga dihafal masih terus diajarkan. Pertanyaan tersebut dijawab oleh KH. Ahmad Dahlan dengan sebuah tanggapan yang mengubah perspektif para santri terhadap aspek penting ajaran Islam.\n",
            "\n",
            "1. Ahmad Dahlan bertanya apakah mereka sudah mengamalkan perintah dalam surat al-Ma’un? Para santri saling berpandangan dan menjawab belum. Maka, KH. Ahmad Dahlan kemudian memerintahkan para santrinya untuk mengumpulkan makanan agar dapat dibagikan pada orang-orang miskin di sekitar mereka sesuai perintah dalam surat al-Ma’un.\n",
            "\n",
            "Kisah KH. Ahmad Dahlan mengajari para santrinya surat al-Ma’un secara berulang-ulang dan kemudian memerintahkan mereka untuk mengamalkannya menjadi asal mula munculnya konsep “teologi al-Ma’un”. Bagi Muhammadiyah, surat al-Ma’un adalah sumber inspirasi dalam menerjemahkan dakwah dalam wujud pemberdayaan sosial dengan mendirikan klinik, panti asuhan, dan gerakan Penolong Kesengsaraan Oemoem (PKO).\n",
            "\n",
            "**Dakwah Amar Makruf Nahi Munkar**\n",
            "\n",
            "Filosofi gerakan Islam dalam Muhammadiyah adalah dakwah _amar makruf nahi munkar_ dan tajdid. Bagi Muhammadiyah, dakwah _amar makruf nahi munkar_ adalah misi kerisalahan yang diemban oleh setiap muslim untuk mensyiarkan dan menyebarkan Islam menjadi _rahmatan lil ‘alamin_.\n",
            "\n",
            "Setiap anggota Muhammadiyah melaksanakan dakwah _amar makruf nahi munkar_ dengan berlandaskan pada spirit tajdid atau pembaruan. Maka, dakwah tidak berhenti dengan menyampaikan butir-butir hikmah ajaran Islam. Tapi, harus mengkaji Islam yang terintegrasi dengan perkembangan ilmu pengetahuan sebagai cara untuk menemukan solusi atas persoalan-persoalan baru yang dihadapi oleh umat manusia.\n",
            "\n",
            "**Islam Berkemajuan yang Wasathiyah**\n",
            "\n",
            "Ideologi Muhammadiyah adalah Islam Berkemajuan berpandangan _wasathiyah_. Sejak awal mula Muhammadiyah berdiri, KH. Ahmad Dahlan telah menekankan pentingnya Islam yang “kemadjoean”. Islam bagi Muhammadiyah adalah _din al-hadlarah_. Islam adalah agama yang mengandung nilai-nilai kemajuan untuk mencerahkan dan mewujudkan kehidupan peradaban umat manusia yang berkeunggulan.\n",
            "\n",
            "Secara ringkas makna Islam Berkemajuan adalah bahwa gerakan Islam yang dilaksanakan oleh Muhammadiyah tidak berpuas diri dengan keberhasilan dalam melakukan peneguhan dan pengayaan ajaran akidah, ibadah, dan akhlak. Tapi juga melakukan pembaruan dalam _mu’amalah duniawiyah_ yang berdampak luas pada umat manusia.\n",
            "\n",
            "Landasan istilah Islam Berkemajuan adalah surat ali Imran ayat 104 dan 110, serta al-Baqarah ayat 143  yang juga menjadi inspirasi kelahiran Muhammadiyah. Pesan dan perintah dalam ketiga ayat tersebut adalah supaya kaum muslim menjadi umat terbaik ( _khoiru ummah_) yang memiliki posisi dan peran _ummatan wasathan_(tengahan, moderat) serta menjadi pelaku perubahan sejarah.\n",
            "\n",
            "Islam yang berpandangan _wasathiyah_ maksudnya adalah bahwa meskipun terdapat karakter keislaman yang khas di dalam Muhammadiyah jika dibandingkan dengan gerakan Islam yang lain, Muhammadiyah tidak hendak saling menegasikan.\n",
            "\n",
            "Perbedaan dalam langgam dan corak keberislaman atau keberagamaan perlu selalu dieratkan oleh _ukhuwah_, toleransi, dan sinergi demi kemajuan umat serta bangsa. Wujud _ukhuwah_ tersebut adalah dengan saling menghargai adanya perbedaan karakteristik dan wawasan keislaman yang dipahami oleh masing-masing organisasi Islam.\n",
            "\n",
            "Ideologi Islam Berkemajuan yang berwatak _wasathiyah_ menuntun para anggota Muhammadiyah untuk mengambil peran dalam memajukan umat dan bangsa di segala bidang secara produktif, berkelanjutan, dan mencerahkan.\n",
            "\n",
            "### Welcome Back!\n",
            "\n",
            "Login to your account below\n",
            "\n",
            "Remember Me\n",
            "\n",
            "[Forgotten Password?](https://muhammadiyah.or.id/sejarah-muhammadiyah/#jeg_forgotform)\n",
            "\n",
            "### Retrieve your password\n",
            "\n",
            "Please enter your username or email address to reset your password.\n",
            "\n",
            "[Log In](https://muhammadiyah.or.id/sejarah-muhammadiyah/#jeg_loginform)\n",
            "\n",
            "### Add New Playlist\n",
            "\n",
            "\\- Select Visibility -PublicPrivate\n",
            "\n",
            "[Search Button](https://muhammadiyah.or.id/sejarah-muhammadiyah/#)\n",
            "\n",
            "No Result\n",
            "\n",
            "View All Result\n",
            "\n",
            "- [AR![icon bendera arab](https://web.muhammadiyah.or.id/wp-content/uploads/2024/04/Layer_x0020_1.png)](https://ar.muhammadiyah.or.id/)\n",
            "- [EN![](https://web.muhammadiyah.or.id/wp-content/uploads/2024/04/Layer_x0020_1-1.png)](https://en.muhammadiyah.or.id/)\n",
            "- [ID![bendera indonesia](https://web.muhammadiyah.or.id/wp-content/uploads/2024/04/Group-2.png)](https://muhammadiyah.or.id/)\n",
            "\n",
            "- [Home](https://muhammadiyah.or.id/muhammadiyah)\n",
            "- [Organisasi](https://muhammadiyah.or.id/sejarah-muhammadiyah/#)\n",
            "  - [Anggota Pimpinan Pusat](https://muhammadiyah.or.id/anggota-pimpinan-pusat-muhammadiyah-2022-2027/)\n",
            "  - [Keputusan Muktamar Ke-48](https://muhammadiyah.or.id/download/tanfidz-keputusan-muktamar-ke-48-muhammadiyah-tahun-2022/)\n",
            "    - [Risalah Islam Berkemajuan](https://muhammadiyah.or.id/2023/03/download-buku-risalah-islam-berkemajuan/)\n",
            "    - [Isu – Isu Strategis Keumatan, Kebangsaan dan Kemanusiaan Universal](https://muhammadiyah.or.id/2023/03/download-isu-isu-strategis-keummatan-kebangsaan-dan-kemanusiaan-universal/)\n",
            "    - [Keputusan Lengkap](https://muhammadiyah.or.id/download/tanfidz-keputusan-muktamar-ke-48-muhammadiyah-tahun-2022/)\n",
            "  - [Majelis](https://muhammadiyah.or.id/majelis-lembaga-biro-pp-muhammadiyah/)\n",
            "    - [Majelis Tarjih dan Tajdid](https://muhammadiyah.or.id/tarjih-dan-tajdid/)\n",
            "    - [Majelis Tabligh](https://muhammadiyah.or.id/majelis-tabligh/)\n",
            "    - [Majelis Diktilitbang](https://muhammadiyah.or.id/diktilitbang/)\n",
            "    - [Majelis Dikdasmen dan PNF](https://muhammadiyah.or.id/majelis-dikdasmen-nf/)\n",
            "    - [Majelis Pembinaan Kader dan SDI](https://muhammadiyah.or.id/pembinaan-kader-sdi/)\n",
            "    - [Majelis Pembinaan Kesehatan Umum](https://muhammadiyah.or.id/majelis-pembinan-kesehatan-umum/)\n",
            "    - [Majelis Pembinaan Kesejahteraan Sosial](https://muhammadiyah.or.id/majelis-pembinaan-kesejahteraan-sosial/)\n",
            "    - [Majelis Ekonomi, Bisnis dan Pariwisata](https://muhammadiyah.or.id/majelis-ekonomi-bisnis-dan-pariwisata/)\n",
            "    - [Majelis Pendayagunaan Wakaf](https://muhammadiyah.or.id/majelis-pendayagunaan-wakaf/)\n",
            "    - [Majelis Pemberdayaan Masyarakat](https://muhammadiyah.or.id/majelis-pemberdayaan-masyarakat/)\n",
            "    - [Majelis Hukum dan HAM](https://muhammadiyah.or.id/majelis-hukum-dan-ham/)\n",
            "    - [Majelis Lingkungan Hidup](https://muhammadiyah.or.id/majelis-lingkungan-hidup/)\n",
            "    - [Majelis Pustaka dan Informasi](https://muhammadiyah.or.id/majelis-pustaka-dan-informasi/)\n",
            "  - [Lembaga](https://muhammadiyah.or.id/)\n",
            "    - [Lembaga Pengembangan Pesantren](https://muhammadiyah.or.id/lembaga-pengembangan-pesantren/)\n",
            "    - [Lembaga Pengembangan Cabang Ranting dan Pembinaan Masjid](https://muhammadiyah.or.id/lembaga-pengembangan-cabang-ranting-dan-pembinaan-masjid/)\n",
            "    - [Lembaga Kajian dan Kemitraan Strategis](https://muhammadiyah.or.id/lembaga-kajian-dan-kemitraan-strategis/)\n",
            "    - [Lembaga Pembinaan dan Pengawasan Keuangan](https://muhammadiyah.or.id/lembaga-pembinaan-dan-pengawasan-keuangan/)\n",
            "    - [Lembaga Resiliensi Bencana](https://muhammadiyah.or.id/lembaga-resiliensi-bencana/)\n",
            "    - [Lembaga Amil Zakat, Infak dan Sedekah](https://muhammadiyah.or.id/lembaga-amil-zakat-infak-dan-sedekah/)\n",
            "    - [Lembaga Pengembang UMKM](https://muhammadiyah.or.id/lembaga-pengembang-umkm/)\n",
            "    - [Lembaga Hikmah dan Kebijakan Publik](https://muhammadiyah.or.id/lembaga-hikmah-dan-kebijakan-publik/)\n",
            "    - [Lembaga Seni Budaya](https://muhammadiyah.or.id/lembaga-seni-budaya/)\n",
            "    - [Lembaga Pengembangan Olahraga](https://muhammadiyah.or.id/lembaga-pengembangan-olahraga/)\n",
            "    - [Lembaga Hubungan dan Kerjasama Internasional](https://muhammadiyah.or.id/lembaga-hubungan-dan-kerjasama-internasional/)\n",
            "    - [Lembaga Dakwah Komunitas](https://muhammadiyah.or.id/lembaga-dakwah-komunitas/)\n",
            "    - [Lembaga Pemeriksa Halal dan KHT](https://muhammadiyah.or.id/lembaga-pemeriksa-halal-dan-kht/)\n",
            "    - [Lembaga Pembinaan Haji dan Umrah](https://muhammadiyah.or.id/lembaga-pembinaan-haji-dan-umrah/)\n",
            "    - [Lembaga Bantuan Hukum dan Advokasi Publik](https://muhammadiyah.or.id/lembaga-bantua-hukum-dan-advokasi-publik/)\n",
            "  - [Biro](https://muhammadiyah.or.id/)\n",
            "    - [Biro Pengembangan Organisasi](https://muhammadiyah.or.id/biro-pengembangan-organisasi/)\n",
            "    - [Biro Pengelolaan Keuangan](https://muhammadiyah.or.id/biro-pengelolaan-keuangan/)\n",
            "    - [Biro Komunikasi dan Pelayanan Umum](https://muhammadiyah.or.id/biro-kumunikasi-dan-pelayanan-umum/)\n",
            "  - [Profil](https://muhammadiyah.or.id/profil/)\n",
            "    - [AD/ ART Muhammadiyah](https://muhammadiyah.or.id/download/anggaran-dasar-dan-anggaran-rumah-tangga-muhammadiyah-2/)\n",
            "    - [Sejarah Muhammadiyah](https://muhammadiyah.or.id/sejarah-muhammadiyah/)\n",
            "    - [Lagu Sang Surya](https://muhammadiyah.or.id/lagu-sang-surya/)\n",
            "    - [Organisasi Otonom](https://muhammadiyah.or.id/organisasi-otonom/)\n",
            "    - [Cabang Istimewa/Luar Negeri](https://muhammadiyah.or.id/cabang-istimewa/)\n",
            "  - [Ideologi](https://muhammadiyah.or.id/ideologi/)\n",
            "    - [Muqodimah Anggaran Dasar Muhammadiyah](https://muhammadiyah.or.id/muqodimah-anggaran-dasar/)\n",
            "    - [Masalah Lima](https://muhammadiyah.or.id/masalah-lima/)\n",
            "    - [Kepribadian Muhammadiyah](https://muhammadiyah.or.id/kepribadian-muhammadiyah/)\n",
            "    - [Matan Keyakinan dan Cita-cita Hidup Muhammadiyah](https://muhammadiyah.or.id/matan-keyakinan-dan-cita-cita-hidup-muhammadiyah/)\n",
            "    - [Khittah Muhammadiyah](https://muhammadiyah.or.id/khittah/)\n",
            "    - [Langkah Muhammadiyah](https://muhammadiyah.or.id/langkah/)\n",
            "  - [Daftar Anggota](https://muhammadiyah.or.id/?page_id=8013)\n",
            "- [Opini](https://muhammadiyah.or.id/opini/)\n",
            "  - [Budaya Lokal](https://muhammadiyah.or.id/kategori/budaya-lokal/)\n",
            "  - [Filantropi & Kesejahteraan Sosial](https://muhammadiyah.or.id/kategori/filantropi-dan-kesejahteraan-sosial/)\n",
            "  - [Pemberdayaan Masyarakat](https://muhammadiyah.or.id/kategori/pemberdayaan-masyarakat/)\n",
            "  - [Lingkungan & Kebencanaan](https://muhammadiyah.or.id/kategori/lingkungan-dan-kebencanaan/)\n",
            "  - [Masyarakat Adat](https://muhammadiyah.or.id/kategori/masyarakat-adat/)\n",
            "  - [Milenial](https://muhammadiyah.or.id/kategori/milenial/)\n",
            "  - [Moderasi Islam](https://muhammadiyah.or.id/kategori/moderasi-islam/)\n",
            "  - [Resensi](https://muhammadiyah.or.id/kategori/resensi/)\n",
            "- [Hikmah](https://muhammadiyah.or.id/hikmah/)\n",
            "- [Hukum Islam](https://muhammadiyah.or.id/hukum-islam/)\n",
            "- [Khutbah](https://muhammadiyah.or.id/khutbah/)\n",
            "  - [Khutbah Jumat](https://muhammadiyah.or.id/kategori/khutbah-jumat/)\n",
            "  - [Khutbah Gerhana](https://muhammadiyah.or.id/kategori/khutbah-gerhana/)\n",
            "  - [Khutbah Nikah](https://muhammadiyah.or.id/kategori/khutbah-nikah/)\n",
            "  - [Khutbah Idul Adha](https://muhammadiyah.or.id/kategori/khutbah-idul-adha/)\n",
            "  - [Khutbah Idul Fitri](https://muhammadiyah.or.id/kategori/khutbah-idul-fitri/)\n",
            "- [Tokoh](https://muhammadiyah.or.id/tokoh/)\n",
            "- [Kabar](https://muhammadiyah.or.id/kabar-persyarikatan/)\n",
            "  - [Internasional](https://muhammadiyah.or.id/kategori/internasional/)\n",
            "  - [Nasional](https://muhammadiyah.or.id/kategori/nasional/)\n",
            "  - [Wilayah](https://muhammadiyah.or.id/kategori/wilayah/)\n",
            "  - [Daerah](https://muhammadiyah.or.id/kategori/daerah/)\n",
            "  - [Ortom](https://muhammadiyah.or.id/kategori/ortom/)\n",
            "- [Galeri](https://muhammadiyah.or.id/)\n",
            "  - [Foto](https://muhammadiyah.or.id/galeri-foto/)\n",
            "\n",
            "- [Login](https://muhammadiyah.or.id/sejarah-muhammadiyah/#jeg_loginform)\n",
            "\n",
            "[Find us on Facebook](https://www.facebook.com/PersyarikatanMuhammadiyah)[Find us on Twitter](https://twitter.com/muhammadiyah)[Find us on Instagram](https://instagram.com/lensamu)[Find us on Youtube](https://www.youtube.com/user/mchannel1912)[Find us on TikTok](https://www.tiktok.com/@lensamu)\n",
            "\n",
            "© 2024 [Persyarikatan Muhammadiyah](https://muhammadiyah.or.id/ \"Persyarikatan Muhammadiyah\") \\- Cahaya Islam Berkemajuan.\n"
          ]
        }
      ],
      "source": [
        "print(s_muhammadiyah[\"markdown\"])\n",
        "s_muhammadiyah_markdown = s_muhammadiyah[\"markdown\"]"
      ]
    },
    {
      "cell_type": "markdown",
      "metadata": {
        "id": "i5bSfR1ihjCf"
      },
      "source": [
        "Now let's concat the markdowns from both sites together in one string."
      ]
    },
    {
      "cell_type": "code",
      "execution_count": null,
      "metadata": {
        "id": "8eDEVI8xhsdB"
      },
      "outputs": [],
      "source": [
        "context = f\"\"\"The following are sejarah muhammadiyah \\n\\n<s_muhammadiyah>{s_muhammadiyah_markdown}</s_muhammadiyah>\\n\"\"\""
      ]
    },
    {
      "cell_type": "markdown",
      "metadata": {
        "id": "EoB2zeIsT9UV"
      },
      "source": [
        "Now we setup our LLM for extraction. Let's install Groq to access Llama 3.2 11B"
      ]
    },
    {
      "cell_type": "code",
      "execution_count": null,
      "metadata": {
        "colab": {
          "base_uri": "https://localhost:8080/"
        },
        "id": "yy8xazeCXNpO",
        "outputId": "47e0a434-99ba-4f17-f719-7f4280dcc73f"
      },
      "outputs": [
        {
          "name": "stdout",
          "output_type": "stream",
          "text": [
            "\u001b[?25l   \u001b[90m━━━━━━━━━━━━━━━━━━━━━━━━━━━━━━━━━━━━━━━━\u001b[0m \u001b[32m0.0/109.6 kB\u001b[0m \u001b[31m?\u001b[0m eta \u001b[36m-:--:--\u001b[0m\r\u001b[2K   \u001b[91m━━━━━━━━━━━━━━━━━━━━━━━━━━━━━━━━━━━━━\u001b[0m\u001b[90m╺\u001b[0m\u001b[90m━━\u001b[0m \u001b[32m102.4/109.6 kB\u001b[0m \u001b[31m3.0 MB/s\u001b[0m eta \u001b[36m0:00:01\u001b[0m\r\u001b[2K   \u001b[90m━━━━━━━━━━━━━━━━━━━━━━━━━━━━━━━━━━━━━━━━\u001b[0m \u001b[32m109.6/109.6 kB\u001b[0m \u001b[31m2.2 MB/s\u001b[0m eta \u001b[36m0:00:00\u001b[0m\n",
            "\u001b[?25h"
          ]
        }
      ],
      "source": [
        "pip install groq -q"
      ]
    },
    {
      "cell_type": "code",
      "execution_count": null,
      "metadata": {
        "colab": {
          "base_uri": "https://localhost:8080/"
        },
        "id": "XomR06c5XXhi",
        "outputId": "7784d4a2-85b9-4786-f916-7272a48ff1c0"
      },
      "outputs": [
        {
          "name": "stdout",
          "output_type": "stream",
          "text": [
            "Groq API Key: ··········\n"
          ]
        }
      ],
      "source": [
        "from groq import Groq\n",
        "import getpass\n",
        "\n",
        "GROQ_API_KEY=getpass.getpass(\"Groq API Key: \")\n",
        "\n",
        "client = Groq(api_key=GROQ_API_KEY)"
      ]
    },
    {
      "cell_type": "code",
      "execution_count": null,
      "metadata": {
        "colab": {
          "background_save": true
        },
        "id": "yC7oMdIOXcYJ"
      },
      "outputs": [],
      "source": [
        "system_message = f\"\"\"\n",
        "You're a helpful competitve intelligence assistant.\n",
        "You're going to look at the course and prices.\n",
        "Your answer is always extremely short and straight to the point.\n",
        "\"\"\""
      ]
    },
    {
      "cell_type": "code",
      "execution_count": null,
      "metadata": {
        "id": "qaAmh3oyX9Bv"
      },
      "outputs": [],
      "source": [
        "def get_response(query: str, context: str):\n",
        "  completion = client.chat.completions.create(\n",
        "      model=\"llama-3.2-11b-vision-preview\",\n",
        "      messages=[\n",
        "          {\n",
        "              \"role\": \"system\",\n",
        "              \"content\": system_message\n",
        "          },\n",
        "          {\n",
        "              \"role\": \"user\",\n",
        "              \"content\": context\n",
        "          },\n",
        "          {\n",
        "              \"role\": \"user\",\n",
        "              \"content\": query\n",
        "          }\n",
        "      ],\n",
        "      temperature=0,\n",
        "      max_tokens=1470,\n",
        "      top_p=1,\n",
        "      stream=False,\n",
        "      stop=None,\n",
        "  )\n",
        "\n",
        "  return completion.choices[0].message.content"
      ]
    },
    {
      "cell_type": "code",
      "execution_count": null,
      "metadata": {
        "colab": {
          "base_uri": "https://localhost:8080/"
        },
        "id": "d-eHFyBHYQqu",
        "outputId": "23551351-a13c-4df8-ae92-e41d09356380"
      },
      "outputs": [
        {
          "name": "stdout",
          "output_type": "stream",
          "text": [
            "Rp 169.000 - Rp 800.000 (approximately $11-$55 USD)\n"
          ]
        }
      ],
      "source": [
        "answer = get_response(\n",
        "    query=\"what price is dunia coding?\",\n",
        "    context=context,\n",
        "    )\n",
        "\n",
        "print(answer)"
      ]
    },
    {
      "cell_type": "code",
      "execution_count": null,
      "metadata": {
        "colab": {
          "base_uri": "https://localhost:8080/"
        },
        "id": "SpXcB051kait",
        "outputId": "60c25048-6e07-4327-98d3-1b9a6766a85d"
      },
      "outputs": [
        {
          "name": "stdout",
          "output_type": "stream",
          "text": [
            "Unfortunately, the provided text does not mention the names of the tutors.\n"
          ]
        }
      ],
      "source": [
        "print(\n",
        "    get_response(\n",
        "    query=\"who is tutor in dicoding\",\n",
        "    context=context,\n",
        "    )\n",
        ")"
      ]
    },
    {
      "cell_type": "code",
      "execution_count": null,
      "metadata": {
        "colab": {
          "base_uri": "https://localhost:8080/"
        },
        "id": "LjIquGQjmavM",
        "outputId": "635b4ffa-cfad-4b51-a912-a7807d27d2e0"
      },
      "outputs": [
        {
          "name": "stdout",
          "output_type": "stream",
          "text": [
            "Dunia Coding offers the following programs:\n",
            "\n",
            "1. Web Programming\n",
            "2. Mobile Programming\n",
            "3. Fullstack Development\n",
            "4. Backend Development\n",
            "5. UI / UX\n",
            "6. Product Management\n",
            "7. Quality Assurance\n",
            "8. Digital Marketing\n",
            "9. Cyber Security\n",
            "10. Career Development\n",
            "11. Tech Entrepreneur\n",
            "12. Freelancer\n",
            "13. Content Creator\n",
            "14. Academic Mentoring\n",
            "15. Data\n",
            "16. Dev Ops\n"
          ]
        }
      ],
      "source": [
        "print(\n",
        "    get_response(\n",
        "    query=\"what program dunia coding have\",\n",
        "    context=context,\n",
        "    )\n",
        ")"
      ]
    },
    {
      "cell_type": "code",
      "execution_count": null,
      "metadata": {
        "colab": {
          "base_uri": "https://localhost:8080/",
          "height": 670
        },
        "id": "h5IbStiE9Ko6",
        "outputId": "bab57dbb-feae-435c-a178-d7b1d97abc9e"
      },
      "outputs": [
        {
          "name": "stderr",
          "output_type": "stream",
          "text": [
            "/usr/local/lib/python3.11/dist-packages/gradio/utils.py:1017: UserWarning: Expected 2 arguments for function <function chat_interface at 0x7993e7bb3c40>, received 1.\n",
            "  warnings.warn(\n",
            "/usr/local/lib/python3.11/dist-packages/gradio/utils.py:1021: UserWarning: Expected at least 2 arguments for function <function chat_interface at 0x7993e7bb3c40>, received 1.\n",
            "  warnings.warn(\n"
          ]
        },
        {
          "name": "stdout",
          "output_type": "stream",
          "text": [
            "Colab notebook detected. To show errors in colab notebook, set debug=True in launch()\n",
            "* Running on public URL: https://ae1e00b5b9bc72a045.gradio.live\n",
            "\n",
            "This share link expires in 72 hours. For free permanent hosting and GPU upgrades, run `gradio deploy` from the terminal in the working directory to deploy to Hugging Face Spaces (https://huggingface.co/spaces)\n"
          ]
        },
        {
          "data": {
            "text/html": [
              "<div><iframe src=\"https://ae1e00b5b9bc72a045.gradio.live\" width=\"100%\" height=\"500\" allow=\"autoplay; camera; microphone; clipboard-read; clipboard-write;\" frameborder=\"0\" allowfullscreen></iframe></div>"
            ],
            "text/plain": [
              "<IPython.core.display.HTML object>"
            ]
          },
          "metadata": {},
          "output_type": "display_data"
        },
        {
          "data": {
            "text/plain": []
          },
          "execution_count": 18,
          "metadata": {},
          "output_type": "execute_result"
        }
      ],
      "source": [
        "import gradio as gr\n",
        "\n",
        "def chat_interface(query, context):\n",
        "    try:\n",
        "        response = get_response(query, context)\n",
        "        return response\n",
        "    except Exception as e:\n",
        "        return f\"Error: {str(e)}\"\n",
        "\n",
        "# Gradio Interface\n",
        "iface = gr.Interface(\n",
        "    fn=chat_interface,\n",
        "    inputs=[\n",
        "        gr.Textbox(label=\"Your Query\")\n",
        "    ],\n",
        "    outputs=gr.Textbox(label=\"Assistant Response\"),\n",
        "    title=\"LLM Chat Interface\",\n",
        "    description=\"Chat with the LLM\"\n",
        ")\n",
        "\n",
        "# For Colab, use share=True\n",
        "iface.launch(pwa=True, share=True)"
      ]
    }
  ],
  "metadata": {
    "accelerator": "TPU",
    "colab": {
      "gpuType": "V28",
      "provenance": []
    },
    "kernelspec": {
      "display_name": "Python 3",
      "name": "python3"
    },
    "language_info": {
      "name": "python"
    }
  },
  "nbformat": 4,
  "nbformat_minor": 0
}